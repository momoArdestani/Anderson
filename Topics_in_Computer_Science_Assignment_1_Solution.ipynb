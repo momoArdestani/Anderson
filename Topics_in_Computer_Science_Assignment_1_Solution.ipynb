{
  "nbformat": 4,
  "nbformat_minor": 0,
  "metadata": {
    "colab": {
      "name": "Topics in Computer Science-Assignment 1-Solution.ipynb",
      "provenance": [],
      "collapsed_sections": [],
      "include_colab_link": true
    },
    "kernelspec": {
      "name": "python3",
      "display_name": "Python 3"
    }
  },
  "cells": [
    {
      "cell_type": "markdown",
      "metadata": {
        "id": "view-in-github",
        "colab_type": "text"
      },
      "source": [
        "<a href=\"https://colab.research.google.com/github/momoArdestani/MatthewAnderson/blob/main/Topics_in_Computer_Science_Assignment_1_Solution.ipynb\" target=\"_parent\"><img src=\"https://colab.research.google.com/assets/colab-badge.svg\" alt=\"Open In Colab\"/></a>"
      ]
    },
    {
      "cell_type": "markdown",
      "metadata": {
        "id": "ZjX17_0FUMm6"
      },
      "source": [
        "Authentication"
      ]
    },
    {
      "cell_type": "code",
      "metadata": {
        "id": "nAuFqbdimzxK"
      },
      "source": [
        "from pydrive.auth import GoogleAuth\n",
        "from pydrive.drive import GoogleDrive\n",
        "from google.colab import auth\n",
        "from oauth2client.client import GoogleCredentials"
      ],
      "execution_count": 1,
      "outputs": []
    },
    {
      "cell_type": "code",
      "metadata": {
        "id": "XOdOzX-DoV3-"
      },
      "source": [
        "auth.authenticate_user()\n",
        "gauth = GoogleAuth()\n",
        "gauth.credentials = GoogleCredentials.get_application_default()\n",
        "drive = GoogleDrive(gauth)"
      ],
      "execution_count": 2,
      "outputs": []
    },
    {
      "cell_type": "code",
      "metadata": {
        "id": "xn9TrN0hnEgP"
      },
      "source": [
        "def load_file_from_drive(id, name):\n",
        "    downloaded = drive.CreateFile({'id':id})\n",
        "    downloaded.GetContentFile(name)"
      ],
      "execution_count": 5,
      "outputs": []
    },
    {
      "cell_type": "code",
      "metadata": {
        "id": "ToTvZL4PnpNV"
      },
      "source": [
        "load_file_from_drive('1qpYgoSffo-vnToEICZ00ti7yDBlE2lB_', 'airline-train.csv')"
      ],
      "execution_count": 6,
      "outputs": []
    },
    {
      "cell_type": "code",
      "metadata": {
        "id": "0D6h0OJSoAdo"
      },
      "source": [
        "load_file_from_drive('14Ol8uFYnN2n0u6bckBIoA7qvjzObS7BS', 'airline-test.csv')"
      ],
      "execution_count": 7,
      "outputs": []
    },
    {
      "cell_type": "code",
      "metadata": {
        "id": "UKdpUlCdoCrF"
      },
      "source": [
        "load_file_from_drive('1m9UXuUQetVQbM-CI_6TdADFXAziV2v2i', 'airline-dev.csv')"
      ],
      "execution_count": 8,
      "outputs": []
    },
    {
      "cell_type": "code",
      "metadata": {
        "colab": {
          "base_uri": "https://localhost:8080/"
        },
        "id": "75oYBTwXnxAZ",
        "outputId": "dcf8e10e-f59d-45d5-97f0-16165de42cbd"
      },
      "source": [
        "!ls"
      ],
      "execution_count": 9,
      "outputs": [
        {
          "output_type": "stream",
          "text": [
            "adc.json  airline-dev.csv  airline-test.csv  airline-train.csv\tsample_data\n"
          ],
          "name": "stdout"
        }
      ]
    },
    {
      "cell_type": "code",
      "metadata": {
        "id": "FdCGguEkUA0p"
      },
      "source": [
        "# from google.colab import drive\n",
        "# import warnings\n",
        "# drive.mount('/gdrive', force_remount=True)\n",
        "# %cd /the/path/to/the/folder/containing/the/dataset/on/your/google/drive"
      ],
      "execution_count": null,
      "outputs": []
    },
    {
      "cell_type": "markdown",
      "metadata": {
        "id": "aomEyZxjK0Gl"
      },
      "source": [
        "Hi hi Hi"
      ]
    },
    {
      "cell_type": "markdown",
      "metadata": {
        "id": "gHl9jN7WUYXx"
      },
      "source": [
        "Importing the necessary modules"
      ]
    },
    {
      "cell_type": "code",
      "metadata": {
        "id": "DrIqNk7fKseR",
        "outputId": "a02c29fd-08fd-4d5b-b96d-1836858bbd81",
        "colab": {
          "base_uri": "https://localhost:8080/"
        }
      },
      "source": [
        "from google.colab import drive\n",
        "drive.mount('/content/drive')"
      ],
      "execution_count": 18,
      "outputs": [
        {
          "output_type": "stream",
          "text": [
            "Mounted at /content/drive\n"
          ],
          "name": "stdout"
        }
      ]
    },
    {
      "cell_type": "code",
      "metadata": {
        "id": "xcjl2uDMOpa4",
        "outputId": "762bfc08-0336-4658-ae1e-394817752247",
        "colab": {
          "base_uri": "https://localhost:8080/"
        }
      },
      "source": [
        "!ls"
      ],
      "execution_count": 19,
      "outputs": [
        {
          "output_type": "stream",
          "text": [
            "1-Data-Cleaning.ipynb  airline-dev.csv\t airline-train.csv  sample_data\n",
            "adc.json\t       airline-test.csv  drive\n"
          ],
          "name": "stdout"
        }
      ]
    },
    {
      "cell_type": "code",
      "metadata": {
        "id": "-VR2308AOy4_",
        "outputId": "0a17a3e2-cfc7-41f6-a072-424ecdd26294",
        "colab": {
          "base_uri": "https://localhost:8080/"
        }
      },
      "source": [
        "cd drive"
      ],
      "execution_count": 20,
      "outputs": [
        {
          "output_type": "stream",
          "text": [
            "/content/drive\n"
          ],
          "name": "stdout"
        }
      ]
    },
    {
      "cell_type": "code",
      "metadata": {
        "id": "7YuYO2_xO6wG",
        "outputId": "127bcaec-1a2c-4363-c830-6d70b36a3986",
        "colab": {
          "base_uri": "https://localhost:8080/"
        }
      },
      "source": [
        "cd MyDrive"
      ],
      "execution_count": 21,
      "outputs": [
        {
          "output_type": "stream",
          "text": [
            "/content/drive/MyDrive\n"
          ],
          "name": "stdout"
        }
      ]
    },
    {
      "cell_type": "code",
      "metadata": {
        "id": "fA0rsal0O-7z",
        "outputId": "b5f33dc2-8fe8-4e76-8ef4-4ae61f295bcc",
        "colab": {
          "base_uri": "https://localhost:8080/"
        }
      },
      "source": [
        "cd NLPcourse\r\n"
      ],
      "execution_count": 22,
      "outputs": [
        {
          "output_type": "stream",
          "text": [
            "/content/drive/MyDrive/NLPcourse\n"
          ],
          "name": "stdout"
        }
      ]
    },
    {
      "cell_type": "code",
      "metadata": {
        "id": "gjYDywMtPF7M",
        "outputId": "c65e0ea7-9d94-4f31-c282-c1d19cee2be6",
        "colab": {
          "base_uri": "https://localhost:8080/"
        }
      },
      "source": [
        "cd NLP"
      ],
      "execution_count": 23,
      "outputs": [
        {
          "output_type": "stream",
          "text": [
            "/content/drive/MyDrive/NLPcourse/NLP\n"
          ],
          "name": "stdout"
        }
      ]
    },
    {
      "cell_type": "code",
      "metadata": {
        "id": "naESkvFjPL0u",
        "outputId": "56b80fd8-1541-4a42-bc8b-e08101f994cb",
        "colab": {
          "base_uri": "https://localhost:8080/"
        }
      },
      "source": [
        "cd Alice"
      ],
      "execution_count": 24,
      "outputs": [
        {
          "output_type": "stream",
          "text": [
            "/content/drive/MyDrive/NLPcourse/NLP/Alice\n"
          ],
          "name": "stdout"
        }
      ]
    },
    {
      "cell_type": "code",
      "metadata": {
        "id": "5Ef6m2fIPOM4",
        "outputId": "1a8a523f-ed69-4032-e0c9-abb443d08ba3",
        "colab": {
          "base_uri": "https://localhost:8080/"
        }
      },
      "source": [
        "!ls"
      ],
      "execution_count": 25,
      "outputs": [
        {
          "output_type": "stream",
          "text": [
            "0-Hello-World.ipynb\t\t   4-Topic-Modeling.ipynb   README.md\n",
            "1-Data-Cleaning.ipynb\t\t   5-Text-Generation.ipynb  transcripts\n",
            "2-Exploratory-Data-Analysis.ipynb  notes.md\t\t    UseAirlines.ipynb\n",
            "3-Sentiment-Analysis.ipynb\t   pickle\n"
          ],
          "name": "stdout"
        }
      ]
    },
    {
      "cell_type": "code",
      "metadata": {
        "id": "ezDawr7kPUc-"
      },
      "source": [
        "comedians = ['louis', 'dave', 'ricky', 'bo', 'bill', 'jim', 'john', 'hasan', 'ali', 'anthony', 'mike', 'joe']"
      ],
      "execution_count": 26,
      "outputs": []
    },
    {
      "cell_type": "code",
      "metadata": {
        "id": "dkBSggdkPiAS"
      },
      "source": [
        "import pickle\r\n"
      ],
      "execution_count": 27,
      "outputs": []
    },
    {
      "cell_type": "code",
      "metadata": {
        "id": "6kqD56hOPiEv",
        "outputId": "a226ae0f-fa87-4dca-ad45-81e8e597fadf",
        "colab": {
          "base_uri": "https://localhost:8080/",
          "height": 36
        }
      },
      "source": [
        "import os\r\n",
        "os.getcwd()"
      ],
      "execution_count": 28,
      "outputs": [
        {
          "output_type": "execute_result",
          "data": {
            "application/vnd.google.colaboratory.intrinsic+json": {
              "type": "string"
            },
            "text/plain": [
              "'/content/drive/MyDrive/NLPcourse/NLP/Alice'"
            ]
          },
          "metadata": {
            "tags": []
          },
          "execution_count": 28
        }
      ]
    },
    {
      "cell_type": "code",
      "metadata": {
        "id": "953RdB6tPiI6"
      },
      "source": [
        "# Load pickled files\r\n",
        "data = {}\r\n",
        "for i, c in enumerate(comedians):\r\n",
        "    with open(\"transcripts/\" + c + \".txt\", \"rb\") as file:\r\n",
        "        data[c] = pickle.load(file)"
      ],
      "execution_count": 29,
      "outputs": []
    },
    {
      "cell_type": "code",
      "metadata": {
        "id": "jog2Uq_RPyzX",
        "outputId": "adead5e7-49e8-4a93-d7f0-e29cb566336d",
        "colab": {
          "base_uri": "https://localhost:8080/"
        }
      },
      "source": [
        "# Double check to make sure data has been loaded properly\r\n",
        "data.keys()"
      ],
      "execution_count": 30,
      "outputs": [
        {
          "output_type": "execute_result",
          "data": {
            "text/plain": [
              "dict_keys(['louis', 'dave', 'ricky', 'bo', 'bill', 'jim', 'john', 'hasan', 'ali', 'anthony', 'mike', 'joe'])"
            ]
          },
          "metadata": {
            "tags": []
          },
          "execution_count": 30
        }
      ]
    },
    {
      "cell_type": "code",
      "metadata": {
        "id": "H4GZbDzoPzG7",
        "outputId": "4cbc825b-63e6-46ea-ee4f-26c31d883e59",
        "colab": {
          "base_uri": "https://localhost:8080/"
        }
      },
      "source": [
        "# More checks\r\n",
        "data['louis'][:2]"
      ],
      "execution_count": 31,
      "outputs": [
        {
          "output_type": "execute_result",
          "data": {
            "text/plain": [
              "['Intro\\nFade the music out. Let’s roll. Hold there. Lights. Do the lights. Thank you. Thank you very much. I appreciate that. I don’t necessarily agree with you, but I appreciate very much. Well, this is a nice place. This is easily the nicest place For many miles in every direction. That’s how you compliment a building And shit on a town with one sentence. It is odd around here, as I was driving here. There doesn’t seem to be any difference Between the sidewalk and the street for pedestrians here. People just kind of walk in the middle of the road. I love traveling And seeing all the different parts of the country. I live in New York. I live in a– There’s no value to your doing that at all.',\n",
              " '“The Old Lady And The Dog”\\nI live– I live in New York. I always– Like, there’s this old lady in my neighborhood, And she’s always walking her dog. She’s always just– she’s very old. She just stands there just being old, And the dog just fights gravity every day, just– The two of them, it’s really– The dog’s got a cloudy eye, and she’s got a cloudy eye, And they just stand there looking at the street In two dimensions together, and– And she’s always wearing, like, this old sweater dress. I guess it was a sweater when she was, like, 5’10”, But now it’s just, like, this sweater And her legs are– her legs are a nightmare. They’re just white with green streaks and bones sticking out. Her legs are awful. I saw a guy with no legs wheeling by, And he was like, “yecch, no thank you. “I do not want those. “I’d rather just have air down here like I have Than to look down at that shit.” I see these two all the time, and I always look at them, And I always think, “god, I hope she dies first.” I do. I hope she dies first, for her sake, Because I don’t want her to lose the dog. I don’t think she’ll be able to handle it. If she dies– If the old lady dies first, I’m not worried about the dog Because the dog doesn’t even know about the old lady. This dog is aware of three inches around his head. He’s living in two-second increments. The second he’s in and the one he just left Is all he knows about, But if he dies, this lady, she’s gonna be destroyed Because this dog is all she has, And I know he’s all she has because she has him. There’s no– If she had one person in her life, She would not keep this piece of shit little dog. Even if just some young woman in her building one morning Were to say, “good morning, gladys,” She’d be like, “good,” And just flush him down the toilet, just– Poom! Poom! The dog just keeps bumping on the drain. Poom! “” she gives up. Ends up just shitting on her dog for the rest of her life. P-p-p! Poom!']"
            ]
          },
          "metadata": {
            "tags": []
          },
          "execution_count": 31
        }
      ]
    },
    {
      "cell_type": "code",
      "metadata": {
        "id": "ovQM1o-_QDvp"
      },
      "source": [
        ""
      ],
      "execution_count": null,
      "outputs": []
    },
    {
      "cell_type": "code",
      "metadata": {
        "id": "O0UoVlB-QDza"
      },
      "source": [
        ""
      ],
      "execution_count": null,
      "outputs": []
    },
    {
      "cell_type": "code",
      "metadata": {
        "id": "bLZMjGtrUOS4"
      },
      "source": [
        "import pandas as pd\n",
        "from nltk.tokenize import TweetTokenizer \n",
        "import nltk\n",
        "from nltk.corpus import stopwords\n",
        "from nltk.corpus import words\n",
        "from collections import Counter\n",
        "from nltk.stem import PorterStemmer \n",
        "import numpy as np\n",
        "from sklearn.naive_bayes import MultinomialNB, GaussianNB\n",
        "from sklearn.metrics import classification_report\n",
        "from sklearn.metrics import confusion_matrix\n",
        "from sklearn.feature_selection import SelectKBest, chi2\n",
        "from sklearn.feature_extraction.text import CountVectorizer\n",
        "from sklearn.neural_network import MLPClassifier, MLPRegressor\n",
        "from sklearn.linear_model import LogisticRegression, LinearRegression\n",
        "import re\n",
        "import matplotlib.pyplot as plt"
      ],
      "execution_count": null,
      "outputs": []
    },
    {
      "cell_type": "code",
      "metadata": {
        "id": "_w-cgN09NbUx"
      },
      "source": [
        "from google.colab import drive\n",
        "drive.mount('/content/drive')"
      ],
      "execution_count": null,
      "outputs": []
    },
    {
      "cell_type": "markdown",
      "metadata": {
        "id": "YipAeBVsUd_M"
      },
      "source": [
        "Configuring numpy"
      ]
    },
    {
      "cell_type": "code",
      "metadata": {
        "id": "_IxZbjkwUcLw"
      },
      "source": [
        "float_formatter = \"{:.2f}\".format\n",
        "np.set_printoptions(formatter={'float_kind':float_formatter})"
      ],
      "execution_count": null,
      "outputs": []
    },
    {
      "cell_type": "markdown",
      "metadata": {
        "id": "9PiGJ86yUiFU"
      },
      "source": [
        "Reading the dataset"
      ]
    },
    {
      "cell_type": "code",
      "metadata": {
        "id": "ikzQPyHmUkaO"
      },
      "source": [
        "train_df = pd.read_csv('airline-train.csv')\n",
        "test_df = pd.read_csv('airline-test.csv')\n",
        "dev_df = pd.read_csv('airline-dev.csv')"
      ],
      "execution_count": null,
      "outputs": []
    },
    {
      "cell_type": "code",
      "metadata": {
        "id": "UPdCw9JNUk_R",
        "colab": {
          "base_uri": "https://localhost:8080/",
          "height": 499
        },
        "outputId": "f930b76a-da3f-4503-e7e0-5841a172cb71"
      },
      "source": [
        "train_df.head()"
      ],
      "execution_count": null,
      "outputs": [
        {
          "output_type": "execute_result",
          "data": {
            "text/html": [
              "<div>\n",
              "<style scoped>\n",
              "    .dataframe tbody tr th:only-of-type {\n",
              "        vertical-align: middle;\n",
              "    }\n",
              "\n",
              "    .dataframe tbody tr th {\n",
              "        vertical-align: top;\n",
              "    }\n",
              "\n",
              "    .dataframe thead th {\n",
              "        text-align: right;\n",
              "    }\n",
              "</style>\n",
              "<table border=\"1\" class=\"dataframe\">\n",
              "  <thead>\n",
              "    <tr style=\"text-align: right;\">\n",
              "      <th></th>\n",
              "      <th>Unnamed: 0</th>\n",
              "      <th>_unit_id</th>\n",
              "      <th>_golden</th>\n",
              "      <th>_unit_state</th>\n",
              "      <th>_trusted_judgments</th>\n",
              "      <th>_last_judgment_at</th>\n",
              "      <th>airline_sentiment</th>\n",
              "      <th>airline_sentiment:confidence</th>\n",
              "      <th>negativereason</th>\n",
              "      <th>negativereason:confidence</th>\n",
              "      <th>airline</th>\n",
              "      <th>airline_sentiment_gold</th>\n",
              "      <th>name</th>\n",
              "      <th>negativereason_gold</th>\n",
              "      <th>retweet_count</th>\n",
              "      <th>text</th>\n",
              "      <th>tweet_coord</th>\n",
              "      <th>tweet_created</th>\n",
              "      <th>tweet_id</th>\n",
              "      <th>tweet_location</th>\n",
              "      <th>user_timezone</th>\n",
              "    </tr>\n",
              "  </thead>\n",
              "  <tbody>\n",
              "    <tr>\n",
              "      <th>0</th>\n",
              "      <td>11429</td>\n",
              "      <td>681462729</td>\n",
              "      <td>False</td>\n",
              "      <td>finalized</td>\n",
              "      <td>3</td>\n",
              "      <td>2/25/15 3:07</td>\n",
              "      <td>positive</td>\n",
              "      <td>1.0</td>\n",
              "      <td>NaN</td>\n",
              "      <td>NaN</td>\n",
              "      <td>US Airways</td>\n",
              "      <td>NaN</td>\n",
              "      <td>CaraModisett</td>\n",
              "      <td>NaN</td>\n",
              "      <td>0</td>\n",
              "      <td>@USAirways she also appreciated having her ver...</td>\n",
              "      <td>NaN</td>\n",
              "      <td>2/18/15 10:55</td>\n",
              "      <td>5.681220e+17</td>\n",
              "      <td>Memphis, Tennessee</td>\n",
              "      <td>Central Time (US &amp; Canada)</td>\n",
              "    </tr>\n",
              "    <tr>\n",
              "      <th>1</th>\n",
              "      <td>9717</td>\n",
              "      <td>681461003</td>\n",
              "      <td>False</td>\n",
              "      <td>finalized</td>\n",
              "      <td>3</td>\n",
              "      <td>2/25/15 3:20</td>\n",
              "      <td>negative</td>\n",
              "      <td>1.0</td>\n",
              "      <td>Can't Tell</td>\n",
              "      <td>0.3464</td>\n",
              "      <td>US Airways</td>\n",
              "      <td>NaN</td>\n",
              "      <td>LarrySandeen</td>\n",
              "      <td>NaN</td>\n",
              "      <td>0</td>\n",
              "      <td>@USAirways Just discovered that they billed us...</td>\n",
              "      <td>[0.0, 0.0]</td>\n",
              "      <td>2/22/15 19:24</td>\n",
              "      <td>5.696990e+17</td>\n",
              "      <td>Southeastern Pennsylvania USA</td>\n",
              "      <td>NaN</td>\n",
              "    </tr>\n",
              "    <tr>\n",
              "      <th>2</th>\n",
              "      <td>10153</td>\n",
              "      <td>681461443</td>\n",
              "      <td>False</td>\n",
              "      <td>finalized</td>\n",
              "      <td>3</td>\n",
              "      <td>2/25/15 6:20</td>\n",
              "      <td>negative</td>\n",
              "      <td>1.0</td>\n",
              "      <td>Can't Tell</td>\n",
              "      <td>1.0000</td>\n",
              "      <td>US Airways</td>\n",
              "      <td>NaN</td>\n",
              "      <td>burseka</td>\n",
              "      <td>NaN</td>\n",
              "      <td>0</td>\n",
              "      <td>@USAirways u guys suck</td>\n",
              "      <td>NaN</td>\n",
              "      <td>2/22/15 7:28</td>\n",
              "      <td>5.695190e+17</td>\n",
              "      <td>NaN</td>\n",
              "      <td>NaN</td>\n",
              "    </tr>\n",
              "    <tr>\n",
              "      <th>3</th>\n",
              "      <td>975</td>\n",
              "      <td>681449647</td>\n",
              "      <td>False</td>\n",
              "      <td>finalized</td>\n",
              "      <td>3</td>\n",
              "      <td>2/25/15 2:14</td>\n",
              "      <td>negative</td>\n",
              "      <td>1.0</td>\n",
              "      <td>Can't Tell</td>\n",
              "      <td>1.0000</td>\n",
              "      <td>United</td>\n",
              "      <td>NaN</td>\n",
              "      <td>artistanxiety</td>\n",
              "      <td>NaN</td>\n",
              "      <td>0</td>\n",
              "      <td>@united I will but right now I'm to angry</td>\n",
              "      <td>NaN</td>\n",
              "      <td>2/23/15 14:09</td>\n",
              "      <td>5.699820e+17</td>\n",
              "      <td>Punk is the preacher.</td>\n",
              "      <td>Arizona</td>\n",
              "    </tr>\n",
              "    <tr>\n",
              "      <th>4</th>\n",
              "      <td>1511</td>\n",
              "      <td>681450373</td>\n",
              "      <td>False</td>\n",
              "      <td>finalized</td>\n",
              "      <td>3</td>\n",
              "      <td>2/25/15 6:57</td>\n",
              "      <td>negative</td>\n",
              "      <td>1.0</td>\n",
              "      <td>Can't Tell</td>\n",
              "      <td>0.6848</td>\n",
              "      <td>United</td>\n",
              "      <td>NaN</td>\n",
              "      <td>axelrodaj</td>\n",
              "      <td>NaN</td>\n",
              "      <td>0</td>\n",
              "      <td>@united not sure why the people in row 7 that ...</td>\n",
              "      <td>[33.94077727, -118.39921036]</td>\n",
              "      <td>2/22/15 18:50</td>\n",
              "      <td>5.696910e+17</td>\n",
              "      <td>San Francisco</td>\n",
              "      <td>Pacific Time (US &amp; Canada)</td>\n",
              "    </tr>\n",
              "  </tbody>\n",
              "</table>\n",
              "</div>"
            ],
            "text/plain": [
              "   Unnamed: 0  ...               user_timezone\n",
              "0       11429  ...  Central Time (US & Canada)\n",
              "1        9717  ...                         NaN\n",
              "2       10153  ...                         NaN\n",
              "3         975  ...                     Arizona\n",
              "4        1511  ...  Pacific Time (US & Canada)\n",
              "\n",
              "[5 rows x 21 columns]"
            ]
          },
          "metadata": {
            "tags": []
          },
          "execution_count": 12
        }
      ]
    },
    {
      "cell_type": "markdown",
      "metadata": {
        "id": "0vjmQEmIUvqq"
      },
      "source": [
        "The list of columns having missing values"
      ]
    },
    {
      "cell_type": "code",
      "metadata": {
        "colab": {
          "base_uri": "https://localhost:8080/"
        },
        "id": "LOsUvxI_mLpM",
        "outputId": "bb5e7cc6-61d8-4be1-ef4e-94ee3add14f1"
      },
      "source": [
        "train_df.columns"
      ],
      "execution_count": null,
      "outputs": [
        {
          "output_type": "execute_result",
          "data": {
            "text/plain": [
              "Index(['Unnamed: 0', '_unit_id', '_golden', '_unit_state',\n",
              "       '_trusted_judgments', '_last_judgment_at', 'airline_sentiment',\n",
              "       'airline_sentiment:confidence', 'negativereason',\n",
              "       'negativereason:confidence', 'airline', 'airline_sentiment_gold',\n",
              "       'name', 'negativereason_gold', 'retweet_count', 'text', 'tweet_coord',\n",
              "       'tweet_created', 'tweet_id', 'tweet_location', 'user_timezone'],\n",
              "      dtype='object')"
            ]
          },
          "metadata": {
            "tags": []
          },
          "execution_count": 65
        }
      ]
    },
    {
      "cell_type": "code",
      "metadata": {
        "id": "e3mWCDxbUsIQ",
        "colab": {
          "base_uri": "https://localhost:8080/"
        },
        "outputId": "ed965a20-1b8b-496f-c5e3-72dc9861d21d"
      },
      "source": [
        "train_df.columns[train_df.isnull().any()]"
      ],
      "execution_count": null,
      "outputs": [
        {
          "output_type": "execute_result",
          "data": {
            "text/plain": [
              "Index(['_last_judgment_at', 'negativereason', 'negativereason:confidence',\n",
              "       'airline_sentiment_gold', 'negativereason_gold', 'tweet_coord',\n",
              "       'tweet_location', 'user_timezone'],\n",
              "      dtype='object')"
            ]
          },
          "metadata": {
            "tags": []
          },
          "execution_count": 13
        }
      ]
    },
    {
      "cell_type": "markdown",
      "metadata": {
        "id": "ymOFGgSVUzMK"
      },
      "source": [
        "The percentage of missing values"
      ]
    },
    {
      "cell_type": "code",
      "metadata": {
        "id": "9ICbYlnBU1OL",
        "colab": {
          "base_uri": "https://localhost:8080/",
          "height": 239
        },
        "outputId": "7b35d12a-50e5-4888-b58b-f8039d660375"
      },
      "source": [
        "train_df_missing = train_df.isna()\n",
        "train_df_missing.head()"
      ],
      "execution_count": null,
      "outputs": [
        {
          "output_type": "execute_result",
          "data": {
            "text/html": [
              "<div>\n",
              "<style scoped>\n",
              "    .dataframe tbody tr th:only-of-type {\n",
              "        vertical-align: middle;\n",
              "    }\n",
              "\n",
              "    .dataframe tbody tr th {\n",
              "        vertical-align: top;\n",
              "    }\n",
              "\n",
              "    .dataframe thead th {\n",
              "        text-align: right;\n",
              "    }\n",
              "</style>\n",
              "<table border=\"1\" class=\"dataframe\">\n",
              "  <thead>\n",
              "    <tr style=\"text-align: right;\">\n",
              "      <th></th>\n",
              "      <th>Unnamed: 0</th>\n",
              "      <th>_unit_id</th>\n",
              "      <th>_golden</th>\n",
              "      <th>_unit_state</th>\n",
              "      <th>_trusted_judgments</th>\n",
              "      <th>_last_judgment_at</th>\n",
              "      <th>airline_sentiment</th>\n",
              "      <th>airline_sentiment:confidence</th>\n",
              "      <th>negativereason</th>\n",
              "      <th>negativereason:confidence</th>\n",
              "      <th>airline</th>\n",
              "      <th>airline_sentiment_gold</th>\n",
              "      <th>name</th>\n",
              "      <th>negativereason_gold</th>\n",
              "      <th>retweet_count</th>\n",
              "      <th>text</th>\n",
              "      <th>tweet_coord</th>\n",
              "      <th>tweet_created</th>\n",
              "      <th>tweet_id</th>\n",
              "      <th>tweet_location</th>\n",
              "      <th>user_timezone</th>\n",
              "    </tr>\n",
              "  </thead>\n",
              "  <tbody>\n",
              "    <tr>\n",
              "      <th>0</th>\n",
              "      <td>False</td>\n",
              "      <td>False</td>\n",
              "      <td>False</td>\n",
              "      <td>False</td>\n",
              "      <td>False</td>\n",
              "      <td>False</td>\n",
              "      <td>False</td>\n",
              "      <td>False</td>\n",
              "      <td>True</td>\n",
              "      <td>True</td>\n",
              "      <td>False</td>\n",
              "      <td>True</td>\n",
              "      <td>False</td>\n",
              "      <td>True</td>\n",
              "      <td>False</td>\n",
              "      <td>False</td>\n",
              "      <td>True</td>\n",
              "      <td>False</td>\n",
              "      <td>False</td>\n",
              "      <td>False</td>\n",
              "      <td>False</td>\n",
              "    </tr>\n",
              "    <tr>\n",
              "      <th>1</th>\n",
              "      <td>False</td>\n",
              "      <td>False</td>\n",
              "      <td>False</td>\n",
              "      <td>False</td>\n",
              "      <td>False</td>\n",
              "      <td>False</td>\n",
              "      <td>False</td>\n",
              "      <td>False</td>\n",
              "      <td>False</td>\n",
              "      <td>False</td>\n",
              "      <td>False</td>\n",
              "      <td>True</td>\n",
              "      <td>False</td>\n",
              "      <td>True</td>\n",
              "      <td>False</td>\n",
              "      <td>False</td>\n",
              "      <td>False</td>\n",
              "      <td>False</td>\n",
              "      <td>False</td>\n",
              "      <td>False</td>\n",
              "      <td>True</td>\n",
              "    </tr>\n",
              "    <tr>\n",
              "      <th>2</th>\n",
              "      <td>False</td>\n",
              "      <td>False</td>\n",
              "      <td>False</td>\n",
              "      <td>False</td>\n",
              "      <td>False</td>\n",
              "      <td>False</td>\n",
              "      <td>False</td>\n",
              "      <td>False</td>\n",
              "      <td>False</td>\n",
              "      <td>False</td>\n",
              "      <td>False</td>\n",
              "      <td>True</td>\n",
              "      <td>False</td>\n",
              "      <td>True</td>\n",
              "      <td>False</td>\n",
              "      <td>False</td>\n",
              "      <td>True</td>\n",
              "      <td>False</td>\n",
              "      <td>False</td>\n",
              "      <td>True</td>\n",
              "      <td>True</td>\n",
              "    </tr>\n",
              "    <tr>\n",
              "      <th>3</th>\n",
              "      <td>False</td>\n",
              "      <td>False</td>\n",
              "      <td>False</td>\n",
              "      <td>False</td>\n",
              "      <td>False</td>\n",
              "      <td>False</td>\n",
              "      <td>False</td>\n",
              "      <td>False</td>\n",
              "      <td>False</td>\n",
              "      <td>False</td>\n",
              "      <td>False</td>\n",
              "      <td>True</td>\n",
              "      <td>False</td>\n",
              "      <td>True</td>\n",
              "      <td>False</td>\n",
              "      <td>False</td>\n",
              "      <td>True</td>\n",
              "      <td>False</td>\n",
              "      <td>False</td>\n",
              "      <td>False</td>\n",
              "      <td>False</td>\n",
              "    </tr>\n",
              "    <tr>\n",
              "      <th>4</th>\n",
              "      <td>False</td>\n",
              "      <td>False</td>\n",
              "      <td>False</td>\n",
              "      <td>False</td>\n",
              "      <td>False</td>\n",
              "      <td>False</td>\n",
              "      <td>False</td>\n",
              "      <td>False</td>\n",
              "      <td>False</td>\n",
              "      <td>False</td>\n",
              "      <td>False</td>\n",
              "      <td>True</td>\n",
              "      <td>False</td>\n",
              "      <td>True</td>\n",
              "      <td>False</td>\n",
              "      <td>False</td>\n",
              "      <td>False</td>\n",
              "      <td>False</td>\n",
              "      <td>False</td>\n",
              "      <td>False</td>\n",
              "      <td>False</td>\n",
              "    </tr>\n",
              "  </tbody>\n",
              "</table>\n",
              "</div>"
            ],
            "text/plain": [
              "   Unnamed: 0  _unit_id  _golden  ...  tweet_id  tweet_location  user_timezone\n",
              "0       False     False    False  ...     False           False          False\n",
              "1       False     False    False  ...     False           False           True\n",
              "2       False     False    False  ...     False            True           True\n",
              "3       False     False    False  ...     False           False          False\n",
              "4       False     False    False  ...     False           False          False\n",
              "\n",
              "[5 rows x 21 columns]"
            ]
          },
          "metadata": {
            "tags": []
          },
          "execution_count": 14
        }
      ]
    },
    {
      "cell_type": "code",
      "metadata": {
        "id": "h0HQkB45U1zT",
        "colab": {
          "base_uri": "https://localhost:8080/"
        },
        "outputId": "63202749-746d-4f39-89f8-51876d71914f"
      },
      "source": [
        "train_num_missing = train_df_missing.sum()\n",
        "train_num_missing/len(train_df)"
      ],
      "execution_count": null,
      "outputs": [
        {
          "output_type": "execute_result",
          "data": {
            "text/plain": [
              "Unnamed: 0                      0.000000\n",
              "_unit_id                        0.000000\n",
              "_golden                         0.000000\n",
              "_unit_state                     0.000000\n",
              "_trusted_judgments              0.000000\n",
              "_last_judgment_at               0.004326\n",
              "airline_sentiment               0.000000\n",
              "airline_sentiment:confidence    0.000000\n",
              "negativereason                  0.368511\n",
              "negativereason:confidence       0.281876\n",
              "airline                         0.000000\n",
              "airline_sentiment_gold          0.997040\n",
              "name                            0.000000\n",
              "negativereason_gold             0.997382\n",
              "retweet_count                   0.000000\n",
              "text                            0.000000\n",
              "tweet_coord                     0.927596\n",
              "tweet_created                   0.000000\n",
              "tweet_id                        0.000000\n",
              "tweet_location                  0.325478\n",
              "user_timezone                   0.326617\n",
              "dtype: float64"
            ]
          },
          "metadata": {
            "tags": []
          },
          "execution_count": 15
        }
      ]
    },
    {
      "cell_type": "markdown",
      "metadata": {
        "id": "Nw4ks6SiVBKv"
      },
      "source": [
        "Does the column 'retweet counts' help? (NO!)"
      ]
    },
    {
      "cell_type": "code",
      "metadata": {
        "id": "aKCHxQ_2U7WO",
        "colab": {
          "base_uri": "https://localhost:8080/"
        },
        "outputId": "d1ed9390-348d-47d9-f831-5a79c62aecda"
      },
      "source": [
        "len(train_df.loc[(train_df['retweet_count'] == 0)])/len(train_df)"
      ],
      "execution_count": null,
      "outputs": [
        {
          "output_type": "execute_result",
          "data": {
            "text/plain": [
              "0.9494535519125683"
            ]
          },
          "metadata": {
            "tags": []
          },
          "execution_count": 16
        }
      ]
    },
    {
      "cell_type": "markdown",
      "metadata": {
        "id": "4Jg6GaEQVGzY"
      },
      "source": [
        "Some basic information on how satisfied the passengers are (given the airline)"
      ]
    },
    {
      "cell_type": "code",
      "metadata": {
        "id": "HMXGB2zdVDlD",
        "colab": {
          "base_uri": "https://localhost:8080/"
        },
        "outputId": "cfa62b44-e647-41ce-bce5-767627dee803"
      },
      "source": [
        "for airline in train_df['airline'].unique():\n",
        "    print('Airline: '+airline)\n",
        "    positive_str = str(len(train_df.loc[(train_df['airline'] == airline) & (train_df['airline_sentiment'] =='positive')])/len(train_df.loc[(train_df['airline'] == airline)]))\n",
        "    print('Positive: '+positive_str)\n",
        "    negative_str = str(len(train_df.loc[(train_df['airline'] == airline) & (train_df['airline_sentiment'] =='negative')])/len(train_df.loc[(train_df['airline'] == airline)]))\n",
        "    print('Negative: '+negative_str)\n",
        "    neutral_str = str(len(train_df.loc[(train_df['airline'] == airline) & (train_df['airline_sentiment'] =='neutral')])/len(train_df.loc[(train_df['airline'] == airline)]))\n",
        "    print('Neutral: '+neutral_str)\n",
        "    print('')"
      ],
      "execution_count": null,
      "outputs": [
        {
          "output_type": "stream",
          "text": [
            "Airline: US Airways\n",
            "Positive: 0.09148446490218642\n",
            "Negative: 0.7928653624856157\n",
            "Neutral: 0.11565017261219793\n",
            "\n",
            "Airline: United\n",
            "Positive: 0.14011601963409193\n",
            "Negative: 0.6849620705042392\n",
            "Neutral: 0.1749219098616689\n",
            "\n",
            "Airline: American\n",
            "Positive: 0.12101534828807556\n",
            "Negative: 0.7195985832349469\n",
            "Neutral: 0.15938606847697756\n",
            "\n",
            "Airline: Southwest\n",
            "Positive: 0.2354533152909337\n",
            "Negative: 0.5\n",
            "Neutral: 0.2645466847090663\n",
            "\n",
            "Airline: Delta\n",
            "Positive: 0.25297619047619047\n",
            "Negative: 0.42931547619047616\n",
            "Neutral: 0.3177083333333333\n",
            "\n",
            "Airline: Virgin America\n",
            "Positive: 0.28027681660899656\n",
            "Negative: 0.34256055363321797\n",
            "Neutral: 0.3771626297577855\n",
            "\n"
          ],
          "name": "stdout"
        }
      ]
    },
    {
      "cell_type": "markdown",
      "metadata": {
        "id": "MobpugUmVNNT"
      },
      "source": [
        "Since the 'text' column does not have any missing values, we can start working on it for the implementation of the basic classifier"
      ]
    },
    {
      "cell_type": "code",
      "metadata": {
        "id": "sQly9dgnVJA7",
        "colab": {
          "base_uri": "https://localhost:8080/",
          "height": 202
        },
        "outputId": "2028dc4e-e82b-4506-b8d3-6447b2da2ba7"
      },
      "source": [
        "bc_train_df = train_df[['text','airline_sentiment']]\n",
        "bc_train_df.head()"
      ],
      "execution_count": null,
      "outputs": [
        {
          "output_type": "execute_result",
          "data": {
            "text/html": [
              "<div>\n",
              "<style scoped>\n",
              "    .dataframe tbody tr th:only-of-type {\n",
              "        vertical-align: middle;\n",
              "    }\n",
              "\n",
              "    .dataframe tbody tr th {\n",
              "        vertical-align: top;\n",
              "    }\n",
              "\n",
              "    .dataframe thead th {\n",
              "        text-align: right;\n",
              "    }\n",
              "</style>\n",
              "<table border=\"1\" class=\"dataframe\">\n",
              "  <thead>\n",
              "    <tr style=\"text-align: right;\">\n",
              "      <th></th>\n",
              "      <th>text</th>\n",
              "      <th>airline_sentiment</th>\n",
              "    </tr>\n",
              "  </thead>\n",
              "  <tbody>\n",
              "    <tr>\n",
              "      <th>0</th>\n",
              "      <td>@USAirways she also appreciated having her ver...</td>\n",
              "      <td>positive</td>\n",
              "    </tr>\n",
              "    <tr>\n",
              "      <th>1</th>\n",
              "      <td>@USAirways Just discovered that they billed us...</td>\n",
              "      <td>negative</td>\n",
              "    </tr>\n",
              "    <tr>\n",
              "      <th>2</th>\n",
              "      <td>@USAirways u guys suck</td>\n",
              "      <td>negative</td>\n",
              "    </tr>\n",
              "    <tr>\n",
              "      <th>3</th>\n",
              "      <td>@united I will but right now I'm to angry</td>\n",
              "      <td>negative</td>\n",
              "    </tr>\n",
              "    <tr>\n",
              "      <th>4</th>\n",
              "      <td>@united not sure why the people in row 7 that ...</td>\n",
              "      <td>negative</td>\n",
              "    </tr>\n",
              "  </tbody>\n",
              "</table>\n",
              "</div>"
            ],
            "text/plain": [
              "                                                text airline_sentiment\n",
              "0  @USAirways she also appreciated having her ver...          positive\n",
              "1  @USAirways Just discovered that they billed us...          negative\n",
              "2                             @USAirways u guys suck          negative\n",
              "3          @united I will but right now I'm to angry          negative\n",
              "4  @united not sure why the people in row 7 that ...          negative"
            ]
          },
          "metadata": {
            "tags": []
          },
          "execution_count": 18
        }
      ]
    },
    {
      "cell_type": "markdown",
      "metadata": {
        "id": "MNiiSidsVWBO"
      },
      "source": [
        "Feature Extraction"
      ]
    },
    {
      "cell_type": "code",
      "metadata": {
        "id": "X4l1JgBZViHH"
      },
      "source": [
        "stemmer = PorterStemmer()"
      ],
      "execution_count": null,
      "outputs": []
    },
    {
      "cell_type": "code",
      "metadata": {
        "id": "K0FC4jCuVXYw"
      },
      "source": [
        "tokenizer = TweetTokenizer() "
      ],
      "execution_count": null,
      "outputs": []
    },
    {
      "cell_type": "code",
      "metadata": {
        "id": "UB7HTbqtVQm0"
      },
      "source": [
        "def prep(txt):\n",
        "    txt = txt.split()\n",
        "    txt = [stemmer.stem(t) for t in txt]\n",
        "    txt = \" \".join(txt)\n",
        "    return txt"
      ],
      "execution_count": null,
      "outputs": []
    },
    {
      "cell_type": "code",
      "metadata": {
        "id": "RxQx943YVeQ3",
        "colab": {
          "base_uri": "https://localhost:8080/"
        },
        "outputId": "272e1034-dd40-4220-a963-828dce9d00df"
      },
      "source": [
        "nltk.download('stopwords')"
      ],
      "execution_count": null,
      "outputs": [
        {
          "output_type": "stream",
          "text": [
            "[nltk_data] Downloading package stopwords to /root/nltk_data...\n",
            "[nltk_data]   Package stopwords is already up-to-date!\n"
          ],
          "name": "stdout"
        },
        {
          "output_type": "execute_result",
          "data": {
            "text/plain": [
              "True"
            ]
          },
          "metadata": {
            "tags": []
          },
          "execution_count": 22
        }
      ]
    },
    {
      "cell_type": "code",
      "metadata": {
        "id": "sqYgtzm6Vzxo"
      },
      "source": [
        "stopwords = stopwords.words('english')\n",
        "stopwords = set(stopwords)"
      ],
      "execution_count": null,
      "outputs": []
    },
    {
      "cell_type": "code",
      "metadata": {
        "id": "VDeQ0B6yV1vs",
        "colab": {
          "base_uri": "https://localhost:8080/"
        },
        "outputId": "033b5b56-54e9-4435-f690-81a3a6a01256"
      },
      "source": [
        "training_text = train_df['text'].to_list()\n",
        "vectorizer = CountVectorizer(stop_words=stopwords, tokenizer=tokenizer.tokenize,max_features=5000, ngram_range=(1,1),min_df=5,preprocessor=prep)\n",
        "vectorizer.fit(training_text)"
      ],
      "execution_count": null,
      "outputs": [
        {
          "output_type": "stream",
          "text": [
            "/usr/local/lib/python3.6/dist-packages/sklearn/feature_extraction/text.py:507: UserWarning: The parameter 'token_pattern' will not be used since 'tokenizer' is not None'\n",
            "  warnings.warn(\"The parameter 'token_pattern' will not be used\"\n",
            "/usr/local/lib/python3.6/dist-packages/sklearn/feature_extraction/text.py:385: UserWarning: Your stop_words may be inconsistent with your preprocessing. Tokenizing the stop words generated tokens [\"'\", 'abov', 'ani', 'becaus', 'befor', 'doe', 'dure', 'ha', 'hi', 'onc', 'onli', 'ourselv', \"should'v\", 'themselv', 'thi', 'veri', 'wa', 'whi', \"you'r\", \"you'v\", 'yourselv'] not in stop_words.\n",
            "  'stop_words.' % sorted(inconsistent))\n"
          ],
          "name": "stderr"
        },
        {
          "output_type": "execute_result",
          "data": {
            "text/plain": [
              "CountVectorizer(analyzer='word', binary=False, decode_error='strict',\n",
              "                dtype=<class 'numpy.int64'>, encoding='utf-8', input='content',\n",
              "                lowercase=True, max_df=1.0, max_features=5000, min_df=5,\n",
              "                ngram_range=(1, 1),\n",
              "                preprocessor=<function prep at 0x7f913ed08400>,\n",
              "                stop_words={'a', 'about', 'above', 'after', 'again', 'against',\n",
              "                            'ain', 'all', 'am', 'an', 'and', 'any', 'are',\n",
              "                            'aren', \"aren't\", 'as', 'at', 'be', 'because',\n",
              "                            'been', 'before', 'being', 'below', 'between',\n",
              "                            'both', 'but', 'by', 'can', 'couldn', \"couldn't\", ...},\n",
              "                strip_accents=None, token_pattern='(?u)\\\\b\\\\w\\\\w+\\\\b',\n",
              "                tokenizer=<bound method TweetTokenizer.tokenize of <nltk.tokenize.casual.TweetTokenizer object at 0x7f913ed074e0>>,\n",
              "                vocabulary=None)"
            ]
          },
          "metadata": {
            "tags": []
          },
          "execution_count": 24
        }
      ]
    },
    {
      "cell_type": "code",
      "metadata": {
        "id": "psMsE7M-WPig"
      },
      "source": [
        "x_train = vectorizer.transform(training_text).toarray()"
      ],
      "execution_count": null,
      "outputs": []
    },
    {
      "cell_type": "code",
      "metadata": {
        "id": "GCIRu6xzWlPN",
        "colab": {
          "base_uri": "https://localhost:8080/"
        },
        "outputId": "e335c820-c8af-43d8-e485-59f6ed3eb452"
      },
      "source": [
        "x_train.shape"
      ],
      "execution_count": null,
      "outputs": [
        {
          "output_type": "execute_result",
          "data": {
            "text/plain": [
              "(8784, 2088)"
            ]
          },
          "metadata": {
            "tags": []
          },
          "execution_count": 26
        }
      ]
    },
    {
      "cell_type": "code",
      "metadata": {
        "id": "Ogdjrct7WSVF"
      },
      "source": [
        "testing_text = test_df['text'].to_list()\n",
        "x_test = vectorizer.transform(testing_text).toarray()"
      ],
      "execution_count": null,
      "outputs": []
    },
    {
      "cell_type": "code",
      "metadata": {
        "id": "7MCMtWh3Uxfe",
        "colab": {
          "base_uri": "https://localhost:8080/"
        },
        "outputId": "ee409f7a-313f-47e3-eb50-0f011b20953d"
      },
      "source": [
        "x_test.shape"
      ],
      "execution_count": null,
      "outputs": [
        {
          "output_type": "execute_result",
          "data": {
            "text/plain": [
              "(2928, 2088)"
            ]
          },
          "metadata": {
            "tags": []
          },
          "execution_count": 28
        }
      ]
    },
    {
      "cell_type": "code",
      "metadata": {
        "id": "iaLERva8iLml"
      },
      "source": [
        "train_sentiments = train_df['airline_sentiment'].to_list()\n",
        "y_train = train_sentiments"
      ],
      "execution_count": null,
      "outputs": []
    },
    {
      "cell_type": "code",
      "metadata": {
        "id": "nrBZJ8P1iUcD"
      },
      "source": [
        "test_sentiments = test_df['airline_sentiment'].to_list()\n",
        "y_test = test_sentiments"
      ],
      "execution_count": null,
      "outputs": []
    },
    {
      "cell_type": "markdown",
      "metadata": {
        "id": "64JPZ00wXO0t"
      },
      "source": [
        "Applying Chi2"
      ]
    },
    {
      "cell_type": "code",
      "metadata": {
        "id": "m8tNjT3OXQzv"
      },
      "source": [
        "transformer = SelectKBest(chi2, k=500).fit(x_train, y_train)"
      ],
      "execution_count": null,
      "outputs": []
    },
    {
      "cell_type": "code",
      "metadata": {
        "id": "3mSfhZWgXUU1"
      },
      "source": [
        "x_train = transformer.transform(x_train)"
      ],
      "execution_count": null,
      "outputs": []
    },
    {
      "cell_type": "code",
      "metadata": {
        "id": "ylFdnE6kXW-4",
        "colab": {
          "base_uri": "https://localhost:8080/"
        },
        "outputId": "5a421a9b-a8a5-4d37-ff5b-c64b9c8464d4"
      },
      "source": [
        "x_train.shape"
      ],
      "execution_count": null,
      "outputs": [
        {
          "output_type": "execute_result",
          "data": {
            "text/plain": [
              "(8784, 500)"
            ]
          },
          "metadata": {
            "tags": []
          },
          "execution_count": 33
        }
      ]
    },
    {
      "cell_type": "code",
      "metadata": {
        "id": "E2L4fY0PXf3I"
      },
      "source": [
        "x_test = transformer.transform(x_test)"
      ],
      "execution_count": null,
      "outputs": []
    },
    {
      "cell_type": "code",
      "metadata": {
        "id": "4-Ni1csXXwV3",
        "colab": {
          "base_uri": "https://localhost:8080/"
        },
        "outputId": "26039aa4-e2c7-40fb-f614-34dceb58c082"
      },
      "source": [
        "x_test.shape"
      ],
      "execution_count": null,
      "outputs": [
        {
          "output_type": "execute_result",
          "data": {
            "text/plain": [
              "(2928, 500)"
            ]
          },
          "metadata": {
            "tags": []
          },
          "execution_count": 35
        }
      ]
    },
    {
      "cell_type": "markdown",
      "metadata": {
        "id": "4f79_0kiXMIs"
      },
      "source": [
        "Training the classifier"
      ]
    },
    {
      "cell_type": "code",
      "metadata": {
        "id": "3dELlv-vXM9N",
        "colab": {
          "base_uri": "https://localhost:8080/"
        },
        "outputId": "da5269e1-ee4b-402b-9b25-4e7406a943d2"
      },
      "source": [
        "clf = MultinomialNB()\n",
        "clf.fit(x_train, y_train)"
      ],
      "execution_count": null,
      "outputs": [
        {
          "output_type": "execute_result",
          "data": {
            "text/plain": [
              "MultinomialNB(alpha=1.0, class_prior=None, fit_prior=True)"
            ]
          },
          "metadata": {
            "tags": []
          },
          "execution_count": 36
        }
      ]
    },
    {
      "cell_type": "markdown",
      "metadata": {
        "id": "CpiYtOu0YFJ4"
      },
      "source": [
        "Evaluation"
      ]
    },
    {
      "cell_type": "code",
      "metadata": {
        "id": "-TnuvaOGYBkN"
      },
      "source": [
        "y_pred = clf.predict(x_test)"
      ],
      "execution_count": null,
      "outputs": []
    },
    {
      "cell_type": "code",
      "metadata": {
        "id": "cmlvkbM8YQPm",
        "colab": {
          "base_uri": "https://localhost:8080/"
        },
        "outputId": "71a0d1c5-6d62-4f8d-8798-3cfe7c6df80c"
      },
      "source": [
        "print(classification_report(y_test, y_pred))"
      ],
      "execution_count": null,
      "outputs": [
        {
          "output_type": "stream",
          "text": [
            "              precision    recall  f1-score   support\n",
            "\n",
            "    negative       0.81      0.90      0.85      1826\n",
            "     neutral       0.66      0.44      0.53       636\n",
            "    positive       0.70      0.72      0.71       466\n",
            "\n",
            "    accuracy                           0.77      2928\n",
            "   macro avg       0.72      0.68      0.70      2928\n",
            "weighted avg       0.76      0.77      0.76      2928\n",
            "\n"
          ],
          "name": "stdout"
        }
      ]
    },
    {
      "cell_type": "markdown",
      "metadata": {
        "id": "5SwY-3nMozfn"
      },
      "source": [
        "Plotting the Confusion Matrix"
      ]
    },
    {
      "cell_type": "code",
      "metadata": {
        "id": "9nUCh8VPkvjT"
      },
      "source": [
        "def plot_confusion_matrix(y_true, y_pred, classes,\n",
        "                          normalize=False,\n",
        "                          title=None,\n",
        "                          cmap=plt.cm.Blues):\n",
        "    \"\"\"\n",
        "    This function prints and plots the confusion matrix.\n",
        "    Normalization can be applied by setting `normalize=True`.\n",
        "    \"\"\"\n",
        "    if not title:\n",
        "        if normalize:\n",
        "            title = 'Normalized confusion matrix'\n",
        "        else:\n",
        "            title = 'Confusion matrix, without normalization'\n",
        "\n",
        "    # Compute confusion matrix\n",
        "    cm = confusion_matrix(y_true, y_pred)\n",
        "    # Only use the labels that appear in the data\n",
        "    # classes = classes[unique_labels(y_true, y_pred)]\n",
        "    if normalize:\n",
        "        cm = cm.astype('float') / cm.sum(axis=1)[:, np.newaxis]\n",
        "        print(\"Normalized confusion matrix\")\n",
        "    else:\n",
        "        print('Confusion matrix, without normalization')\n",
        "\n",
        "    print(cm)\n",
        "\n",
        "    fig, ax = plt.subplots()\n",
        "    im = ax.imshow(cm, interpolation='nearest', cmap=cmap)\n",
        "    ax.figure.colorbar(im, ax=ax)\n",
        "    # We want to show all ticks...\n",
        "    ax.set(xticks=np.arange(cm.shape[1]),\n",
        "           yticks=np.arange(cm.shape[0]),\n",
        "           # ... and label them with the respective list entries\n",
        "           xticklabels=classes, yticklabels=classes,\n",
        "           title=title,\n",
        "           ylabel='True label',\n",
        "           xlabel='Predicted label')\n",
        "\n",
        "    # Rotate the tick labels and set their alignment.\n",
        "    plt.setp(ax.get_xticklabels(), rotation=45, ha=\"right\",\n",
        "             rotation_mode=\"anchor\")\n",
        "\n",
        "    # Loop over data dimensions and create text annotations.\n",
        "    fmt = '.2f' if normalize else 'd'\n",
        "    thresh = cm.max() / 2.\n",
        "    for i in range(cm.shape[0]):\n",
        "        for j in range(cm.shape[1]):\n",
        "            ax.text(j, i, format(cm[i, j], fmt),\n",
        "                    ha=\"center\", va=\"center\",\n",
        "                    color=\"white\" if cm[i, j] > thresh else \"black\")\n",
        "    fig.tight_layout()\n",
        "    plt.xlim(-0.5, len(np.unique(y_test))-0.5)\n",
        "    plt.ylim(len(np.unique(y_test))-0.5, -0.5)\n",
        "    return ax"
      ],
      "execution_count": null,
      "outputs": []
    },
    {
      "cell_type": "code",
      "metadata": {
        "colab": {
          "base_uri": "https://localhost:8080/",
          "height": 385
        },
        "id": "Z44bnSLPkxjw",
        "outputId": "8b3b0352-e506-4d5b-a134-0e23c55b3462"
      },
      "source": [
        "plot_confusion_matrix(y_test, y_pred, classes=set(y_test))"
      ],
      "execution_count": null,
      "outputs": [
        {
          "output_type": "stream",
          "text": [
            "Confusion matrix, without normalization\n",
            "[[1641  113   72]\n",
            " [ 289  279   68]\n",
            " [ 100   32  334]]\n"
          ],
          "name": "stdout"
        },
        {
          "output_type": "execute_result",
          "data": {
            "text/plain": [
              "<matplotlib.axes._subplots.AxesSubplot at 0x7f913dc4a7b8>"
            ]
          },
          "metadata": {
            "tags": []
          },
          "execution_count": 40
        },
        {
          "output_type": "display_data",
          "data": {
            "image/png": "[encoded data removed]",
            "text/plain": [
              "<Figure size 432x288 with 2 Axes>"
            ]
          },
          "metadata": {
            "tags": [],
            "needs_background": "light"
          }
        }
      ]
    },
    {
      "cell_type": "code",
      "metadata": {
        "colab": {
          "base_uri": "https://localhost:8080/",
          "height": 385
        },
        "id": "_FtAdr4ZlxS_",
        "outputId": "efcf7cc2-302c-4d16-dd35-5d324a0191ac"
      },
      "source": [
        "plot_confusion_matrix(y_test, y_pred, classes=set(y_test), normalize=True)"
      ],
      "execution_count": null,
      "outputs": [
        {
          "output_type": "stream",
          "text": [
            "Normalized confusion matrix\n",
            "[[0.90 0.06 0.04]\n",
            " [0.45 0.44 0.11]\n",
            " [0.21 0.07 0.72]]\n"
          ],
          "name": "stdout"
        },
        {
          "output_type": "execute_result",
          "data": {
            "text/plain": [
              "<matplotlib.axes._subplots.AxesSubplot at 0x7f913da7fc50>"
            ]
          },
          "metadata": {
            "tags": []
          },
          "execution_count": 41
        },
        {
          "output_type": "display_data",
          "data": {
            "image/png": "[encoded data removed]",
            "text/plain": [
              "<Figure size 432x288 with 2 Axes>"
            ]
          },
          "metadata": {
            "tags": [],
            "needs_background": "light"
          }
        }
      ]
    },
    {
      "cell_type": "code",
      "metadata": {
        "id": "9X8nwJYKYRjp",
        "colab": {
          "base_uri": "https://localhost:8080/"
        },
        "outputId": "fb5281d5-f957-45be-ae88-1c330b4e5a09"
      },
      "source": [
        "confusion_matrix(y_test, y_pred)"
      ],
      "execution_count": null,
      "outputs": [
        {
          "output_type": "execute_result",
          "data": {
            "text/plain": [
              "array([[1641,  113,   72],\n",
              "       [ 289,  279,   68],\n",
              "       [ 100,   32,  334]])"
            ]
          },
          "metadata": {
            "tags": []
          },
          "execution_count": 42
        }
      ]
    },
    {
      "cell_type": "markdown",
      "metadata": {
        "id": "gq80yw5jo31G"
      },
      "source": [
        "Query"
      ]
    },
    {
      "cell_type": "code",
      "metadata": {
        "id": "GA9RAs96jy3d"
      },
      "source": [
        "def query(tweet, clf, vectorizer, transformer):\n",
        "    tweet_arr = vectorizer.transform([tweet])\n",
        "    tweet_arr = transformer.transform(tweet_arr)\n",
        "    return clf.predict(tweet_arr)[0]"
      ],
      "execution_count": null,
      "outputs": []
    },
    {
      "cell_type": "code",
      "metadata": {
        "id": "28lCawZBj7Fy",
        "colab": {
          "base_uri": "https://localhost:8080/",
          "height": 35
        },
        "outputId": "6757f8ab-6368-4d34-f0cf-ca32fbf88b7f"
      },
      "source": [
        "query('the food was awesome and tasted good',clf, vectorizer, transformer)"
      ],
      "execution_count": null,
      "outputs": [
        {
          "output_type": "execute_result",
          "data": {
            "application/vnd.google.colaboratory.intrinsic+json": {
              "type": "string"
            },
            "text/plain": [
              "'positive'"
            ]
          },
          "metadata": {
            "tags": []
          },
          "execution_count": 44
        }
      ]
    },
    {
      "cell_type": "markdown",
      "metadata": {
        "id": "ehEt7VR6ZSNd"
      },
      "source": [
        "Enhancements"
      ]
    },
    {
      "cell_type": "markdown",
      "metadata": {
        "id": "cWiYQE9pZTp7"
      },
      "source": [
        "*Extending the classes*"
      ]
    },
    {
      "cell_type": "markdown",
      "metadata": {
        "id": "6Gd9Q7VaZeTF"
      },
      "source": [
        "Feature extraction (a different way)"
      ]
    },
    {
      "cell_type": "code",
      "metadata": {
        "id": "FUbRlAU8ZS6q"
      },
      "source": [
        "train_sent_conf = train_df['airline_sentiment:confidence'].to_list()"
      ],
      "execution_count": null,
      "outputs": []
    },
    {
      "cell_type": "code",
      "metadata": {
        "id": "7qc3d9htj3l6"
      },
      "source": [
        "y_train = [1 if sentiment == 'positive' else (-1 if sentiment == 'negative' else 0) for sentiment in train_sentiments]"
      ],
      "execution_count": null,
      "outputs": []
    },
    {
      "cell_type": "code",
      "metadata": {
        "id": "cUto4bQeZx0o"
      },
      "source": [
        "y_train = [y*conf for y, conf in zip(y_train, train_sent_conf)]"
      ],
      "execution_count": null,
      "outputs": []
    },
    {
      "cell_type": "code",
      "metadata": {
        "id": "zkOkgwFlaCTy"
      },
      "source": [
        "y_train = np.array(y_train)"
      ],
      "execution_count": null,
      "outputs": []
    },
    {
      "cell_type": "code",
      "metadata": {
        "id": "XFIu8EDrXLg0"
      },
      "source": [
        "test_sent_conf = test_df['airline_sentiment:confidence'].to_list()"
      ],
      "execution_count": null,
      "outputs": []
    },
    {
      "cell_type": "code",
      "metadata": {
        "id": "9Cs0jlT9j8Jv"
      },
      "source": [
        "y_test = [1 if sentiment == 'positive' else (-1 if sentiment == 'negative' else 0) for sentiment in test_sentiments]"
      ],
      "execution_count": null,
      "outputs": []
    },
    {
      "cell_type": "code",
      "metadata": {
        "id": "IERQIPqiaPaY"
      },
      "source": [
        "y_test = [y*conf for y, conf in zip(y_test, test_sent_conf)]"
      ],
      "execution_count": null,
      "outputs": []
    },
    {
      "cell_type": "code",
      "metadata": {
        "id": "txqBhNAlaSlo"
      },
      "source": [
        "y_test = np.array(y_test)"
      ],
      "execution_count": null,
      "outputs": []
    },
    {
      "cell_type": "markdown",
      "metadata": {
        "id": "Xt-h3etQbTBC"
      },
      "source": [
        "Training another classifier (this time: Multi-Layer Perceptron)"
      ]
    },
    {
      "cell_type": "code",
      "metadata": {
        "id": "EfwGsr0MaUJb",
        "colab": {
          "base_uri": "https://localhost:8080/"
        },
        "outputId": "ac8cdf6c-3cea-4a84-b475-92f4aef473bc"
      },
      "source": [
        "regr = MLPRegressor(random_state=1, max_iter=5).fit(x_train, y_train)"
      ],
      "execution_count": null,
      "outputs": [
        {
          "output_type": "stream",
          "text": [
            "/usr/local/lib/python3.6/dist-packages/sklearn/neural_network/_multilayer_perceptron.py:571: ConvergenceWarning: Stochastic Optimizer: Maximum iterations (5) reached and the optimization hasn't converged yet.\n",
            "  % self.max_iter, ConvergenceWarning)\n"
          ],
          "name": "stderr"
        }
      ]
    },
    {
      "cell_type": "markdown",
      "metadata": {
        "id": "zCdGbqfVd65N"
      },
      "source": [
        "The coefficient R^2 is defined as (1 - u/v), where u is the residual sum of squares ((y_true - y_pred) ** 2).sum() and v is the total sum of squares ((y_true - y_true.mean()) ** 2).sum(). The best possible score is 1.0 and it can be negative (because the model can be arbitrarily worse). A constant model that always predicts the expected value of y, disregarding the input features, would get a R^2 score of 0.0."
      ]
    },
    {
      "cell_type": "code",
      "metadata": {
        "id": "pwCrdRbrciAz"
      },
      "source": [
        "y_pred = regr.predict(x_test)"
      ],
      "execution_count": null,
      "outputs": []
    },
    {
      "cell_type": "code",
      "metadata": {
        "id": "9IkXpZTnUfum",
        "colab": {
          "base_uri": "https://localhost:8080/"
        },
        "outputId": "ecd8e202-804e-4bdc-b24e-20c06d3c09d0"
      },
      "source": [
        "regr.score(x_test, y_test)"
      ],
      "execution_count": null,
      "outputs": [
        {
          "output_type": "execute_result",
          "data": {
            "text/plain": [
              "0.5346528427865724"
            ]
          },
          "metadata": {
            "tags": []
          },
          "execution_count": 55
        }
      ]
    },
    {
      "cell_type": "markdown",
      "metadata": {
        "id": "qQVnbwnJf-k9"
      },
      "source": [
        "Query"
      ]
    },
    {
      "cell_type": "code",
      "metadata": {
        "id": "6l8uYF3SgBUq"
      },
      "source": [
        "def get_label(num):\n",
        "    abs_num = abs(num)\n",
        "    if num == 0:\n",
        "        return 0\n",
        "    else:\n",
        "        temp_label = 0\n",
        "        if 0 <= abs_num <= 0.2:\n",
        "            temp_label = 1\n",
        "        elif 0.2 < abs_num <= 0.4:\n",
        "            temp_label = 2\n",
        "        elif 0.4 < abs_num <= 0.6:\n",
        "            temp_label = 3\n",
        "        elif 0.6 < abs_num <= 0.8:\n",
        "            temp_label = 4\n",
        "        elif 0.8 < abs_num <= 1:\n",
        "            temp_label = 5\n",
        "        if abs_num != num:\n",
        "            temp_label = -(temp_label)\n",
        "        return temp_label"
      ],
      "execution_count": null,
      "outputs": []
    },
    {
      "cell_type": "code",
      "metadata": {
        "id": "bw5f-Cuhgco1",
        "colab": {
          "base_uri": "https://localhost:8080/"
        },
        "outputId": "24e3dfca-3819-46e1-9ce3-61a92a4dbcc8"
      },
      "source": [
        "get_label(-0.4)"
      ],
      "execution_count": null,
      "outputs": [
        {
          "output_type": "execute_result",
          "data": {
            "text/plain": [
              "-2"
            ]
          },
          "metadata": {
            "tags": []
          },
          "execution_count": 57
        }
      ]
    },
    {
      "cell_type": "code",
      "metadata": {
        "id": "EXkObtEkgfLn",
        "colab": {
          "base_uri": "https://localhost:8080/"
        },
        "outputId": "f2e61f9f-3b05-4336-bce7-14b53dcabb89"
      },
      "source": [
        "get_label(0.6)"
      ],
      "execution_count": null,
      "outputs": [
        {
          "output_type": "execute_result",
          "data": {
            "text/plain": [
              "3"
            ]
          },
          "metadata": {
            "tags": []
          },
          "execution_count": 58
        }
      ]
    },
    {
      "cell_type": "code",
      "metadata": {
        "id": "OQh-cx2zgkBh"
      },
      "source": [
        "def preprocess(tweet, tokenizer, stemmer, stopwords):\n",
        "    tweet = tokenizer.tokenize(tweet)\n",
        "    tweet = list([token for token in tweet if token not in stopwords])\n",
        "    tweet = [stemmer.stem(token) for token in tweet]\n",
        "    tweet = \" \".join(tweet)\n",
        "    return tweet"
      ],
      "execution_count": null,
      "outputs": []
    },
    {
      "cell_type": "code",
      "metadata": {
        "id": "njS8QZZqfTNz"
      },
      "source": [
        "def extended_query(tweet, regr, vectorizer, transformer):\n",
        "    tweet_arr = vectorizer.transform([tweet])\n",
        "    tweet_arr = transformer.transform(tweet_arr)\n",
        "    output = regr.predict(tweet_arr)[0]\n",
        "    output_str = 'positive' if output>0 else ('neutral' if output == 0 else 'negative')\n",
        "    output_str += ' | intensity: '+str(abs(get_label(output)))\n",
        "    print(output_str)"
      ],
      "execution_count": null,
      "outputs": []
    },
    {
      "cell_type": "code",
      "metadata": {
        "id": "H9OsNkEEgwaP",
        "colab": {
          "base_uri": "https://localhost:8080/"
        },
        "outputId": "720abadd-e318-4715-e06f-44000f5be015"
      },
      "source": [
        "extended_query('the flight was awesome',regr, vectorizer, transformer)"
      ],
      "execution_count": null,
      "outputs": [
        {
          "output_type": "stream",
          "text": [
            "positive | intensity: 2\n"
          ],
          "name": "stdout"
        }
      ]
    },
    {
      "cell_type": "code",
      "metadata": {
        "id": "fkrWMi46iMIe",
        "colab": {
          "base_uri": "https://localhost:8080/"
        },
        "outputId": "a085924e-fa47-4cdf-8416-9f519a260378"
      },
      "source": [
        "extended_query('the flight was the best one and we enjoyed everything',regr, vectorizer, transformer)"
      ],
      "execution_count": null,
      "outputs": [
        {
          "output_type": "stream",
          "text": [
            "positive | intensity: 3\n"
          ],
          "name": "stdout"
        }
      ]
    },
    {
      "cell_type": "code",
      "metadata": {
        "id": "bMrRBpgVg2Jg",
        "colab": {
          "base_uri": "https://localhost:8080/"
        },
        "outputId": "6419bb1a-d2a0-40ea-8c8f-0eb07f333113"
      },
      "source": [
        "extended_query('what a great cabin crew! its the best flight ive ever had',regr, vectorizer, transformer)"
      ],
      "execution_count": null,
      "outputs": [
        {
          "output_type": "stream",
          "text": [
            "positive | intensity: 4\n"
          ],
          "name": "stdout"
        }
      ]
    },
    {
      "cell_type": "code",
      "metadata": {
        "id": "i3oilDfijUCj",
        "colab": {
          "base_uri": "https://localhost:8080/"
        },
        "outputId": "c49e609f-68b5-47e6-840a-42c9e5686aad"
      },
      "source": [
        "extended_query('the cabin crew were not friendly and their behavior was not appropriate',regr, vectorizer, transformer)"
      ],
      "execution_count": null,
      "outputs": [
        {
          "output_type": "stream",
          "text": [
            "negative | intensity: 1\n"
          ],
          "name": "stdout"
        }
      ]
    }
  ]
}